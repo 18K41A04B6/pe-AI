{
  "nbformat": 4,
  "nbformat_minor": 0,
  "metadata": {
    "colab": {
      "name": "ASSIGNMENT-1.ipynb",
      "provenance": [],
      "collapsed_sections": [],
      "authorship_tag": "ABX9TyMub8cVQRxv2QU7keHZd99z",
      "include_colab_link": true
    },
    "kernelspec": {
      "name": "python3",
      "display_name": "Python 3"
    }
  },
  "cells": [
    {
      "cell_type": "markdown",
      "metadata": {
        "id": "view-in-github",
        "colab_type": "text"
      },
      "source": [
        "<a href=\"https://colab.research.google.com/github/18K41A04B6/pe-AI/blob/master/ASSIGNMENT_1.ipynb\" target=\"_parent\"><img src=\"https://colab.research.google.com/assets/colab-badge.svg\" alt=\"Open In Colab\"/></a>"
      ]
    },
    {
      "cell_type": "markdown",
      "metadata": {
        "id": "E-9jWEix45v4",
        "colab_type": "text"
      },
      "source": [
        "1.Develop a code for below scenario"
      ]
    },
    {
      "cell_type": "code",
      "metadata": {
        "id": "KngLYQMa54R5",
        "colab_type": "code",
        "colab": {
          "base_uri": "https://localhost:8080/",
          "height": 68
        },
        "outputId": "8f10f4ad-518e-4802-da79-291a63d99583"
      },
      "source": [
        " yr=int(input(\"enter the year:\"))\n",
        "a=yr%12\n",
        "b={0:\"monkey\",1:\"rooster\",2:\"dog\",3:\"pig\",4:\"rat\",5:\"ox\",6:\"tiger\",7:\"rabbit\",8:\"dragon\",9:\"snake\",10:\"horse\",11:\"sheep\"}\n",
        "print(a)\n",
        "print(b[a])"
      ],
      "execution_count": null,
      "outputs": [
        {
          "output_type": "stream",
          "text": [
            "enter the year:2000\n",
            "8\n",
            "dragon\n"
          ],
          "name": "stdout"
        }
      ]
    },
    {
      "cell_type": "markdown",
      "metadata": {
        "id": "6i-vf24U6Uma",
        "colab_type": "text"
      },
      "source": [
        "2.A Quick Fox Transport Co. wants to develop an application for calculating amount based on distance and weight of goods. The charges (Amount) to be calculated as per rates given below. \n",
        " \n",
        "Input:  Distance to be travel: 520     \n",
        "Weight of the goods: 50 \n",
        "Output: Amount to be charged: 3120 /-"
      ]
    },
    {
      "cell_type": "code",
      "metadata": {
        "id": "SjOJqepo7GWy",
        "colab_type": "code",
        "colab": {
          "base_uri": "https://localhost:8080/",
          "height": 68
        },
        "outputId": "2ee706e6-64bb-428c-c889-5908f814d610"
      },
      "source": [
        " d=int(input(\"distance to be travel:\"))\n",
        "w=int(input(\"weight of the goods:\"))\n",
        "if d>=500:\n",
        "  if w>=100:\n",
        "     ch=d*5\n",
        "     print(\"amount to be charged as:\",ch)\n",
        "  elif w>=10 and w<100:\n",
        "    ch=d*6\n",
        "    print(\"amount to be charged as:\",ch)\n",
        "  elif w<10:\n",
        "    ch=d*7\n",
        "    print(\"amount to be charged as:\",ch)\n",
        "  else:\n",
        "      print(\"\")\n",
        "elif d<500:\n",
        "  if w>100:\n",
        "    ch=d*8\n",
        "    print(\"amount to be charged as\",ch)\n",
        "  elif w<100:\n",
        "     ch=d*5\n",
        "     print(\"amount to be charged as:\",ch)\n",
        "  else:\n",
        "       print(\"\")\n",
        "else:\n",
        "  print(\"enter the distance and weight of goods\")"
      ],
      "execution_count": null,
      "outputs": [
        {
          "output_type": "stream",
          "text": [
            "distance to be travel:520\n",
            "weight of the goods:50\n",
            "amount to be charged as: 3120\n"
          ],
          "name": "stdout"
        }
      ]
    },
    {
      "cell_type": "markdown",
      "metadata": {
        "id": "9F3Uts2D8pLk",
        "colab_type": "text"
      },
      "source": [
        "3.  A theater in Delhi wants to develop a computerized Booking System. The theater offers different types of seats. The Ticket rates are- Stalls- Rs. 625/-, Circle- Rs.750/-, Upper Class- Rs.850/- and Box- Rs.1000/-. A discount is given 10% of total amount if tickets are purchased on Cash. In case of credit card holders 5% discount is given. \n",
        "Input:  Type of Seat: Circle    \n",
        "Payment mode: cash\n",
        "Output: Cost of ticket: 675"
      ]
    },
    {
      "cell_type": "code",
      "metadata": {
        "id": "BQdX6hhB9Go7",
        "colab_type": "code",
        "colab": {
          "base_uri": "https://localhost:8080/",
          "height": 68
        },
        "outputId": "610bd89c-a833-4603-bf5e-ac3e1aa241cc"
      },
      "source": [
        " st=input(\"type of seat:\")\n",
        "money=input(\"type of payment mode\")\n",
        "if money==\"cash\":\n",
        "   if st==\"stalls\":\n",
        "     ct=625-625*0.1\n",
        "     print(\"cost of ticket :\",int(ct))\n",
        "   elif st==\"circle\":\n",
        "     ct=750-750*0.1\n",
        "     print(\"cost of ticket :\",int(ct))\n",
        "   elif st==\"upper class\" :\n",
        "      ct=850-850*0.1\n",
        "      print(\"cost of ticket:\",int(ct))\n",
        "   elif st==\"box\":\n",
        "      ct=1000-1000*0.1\n",
        "      print(\"cost of ticket:\",int(ct))\n",
        "   else:\n",
        "      print(\"\")\n",
        "elif money==\"credit card\":\n",
        "   if st==\"stalls\":\n",
        "      ct=625-625*0.05\n",
        "      print(\"cost of ticket :\",int(ct))\n",
        "   elif st==\"circle\":\n",
        "      ct=750-750*0.05\n",
        "      print(\"cost of ticket :\",int(ct))\n",
        "   elif st==\"upper class\":\n",
        "        ct=850-850*0.05\n",
        "        print(\"cost of ticket :\",int(ct))\n",
        "   elif st==\"box\":\n",
        "        ct=1000-1000*0.05\n",
        "        print(\"cost of ticket :\",int(ct))\n",
        "   else:\n",
        "       print(\"\")\n",
        "else :\n",
        "  print(\"please choose type of seat and payment mode\")"
      ],
      "execution_count": null,
      "outputs": [
        {
          "output_type": "stream",
          "text": [
            "type of seat:circle\n",
            "type of payment modecash\n",
            "cost of ticket : 675\n"
          ],
          "name": "stdout"
        }
      ]
    },
    {
      "cell_type": "markdown",
      "metadata": {
        "id": "SH9Zg1DL96OK",
        "colab_type": "text"
      },
      "source": [
        "4.Develop a program that calculates the energy needed to heat water from an initial temperature to a final temperature. Your program should prompt the user to enter the amount of water in kilograms and the initial and final temperatures of the water. The formula to compute the energy is \n",
        "Q = M * (finalTemperature  initialTemperature) * 4184.\n",
        "where M is the weight of water in kilograms, temperatures are in degrees Celsius,  and energy Q is measured in joules. (L6)"
      ]
    },
    {
      "cell_type": "code",
      "metadata": {
        "id": "dL8V5aaK-PsW",
        "colab_type": "code",
        "colab": {
          "base_uri": "https://localhost:8080/",
          "height": 51
        },
        "outputId": "73aabd15-194c-4cc8-fa31-69dcf7eceb4b"
      },
      "source": [
        " it,ft,m=map(int,input().split())\n",
        "# m is in kg,temperatures it and ft are in degree celsius\n",
        "q=m*(ft-it)*4184\n",
        "print(\"energy in joules\",q)"
      ],
      "execution_count": null,
      "outputs": [
        {
          "output_type": "stream",
          "text": [
            "25 50 7\n",
            "energy in joules 732200\n"
          ],
          "name": "stdout"
        }
      ]
    },
    {
      "cell_type": "markdown",
      "metadata": {
        "id": "642-IBWe_aLx",
        "colab_type": "text"
      },
      "source": [
        "5. Develop a program that prompts user to enter month and  print \n",
        "Winter  -   December ,January and February\n",
        "Spring  -   March ,April and May\n",
        "Summer  --- June ,July, August\n",
        "Autumn   -- September ,October, November"
      ]
    },
    {
      "cell_type": "code",
      "metadata": {
        "id": "oqeFKsWT_rTs",
        "colab_type": "code",
        "colab": {
          "base_uri": "https://localhost:8080/",
          "height": 51
        },
        "outputId": "4b63911e-7753-40f8-edaf-b88915a00e13"
      },
      "source": [
        " month =input(\"enter month:\")\n",
        "if month in (\"december\",\"january\",\"feburuary\"):\n",
        "  print(\"winter\")\n",
        "elif month in (\"march\",\"april\",\"may\"):\n",
        "  print(\"spring\")\n",
        "elif month in (\"june\",\"july\",\"august\"):\n",
        "  print(\"summer\")\n",
        "else:\n",
        "  print(\"Autumn\")"
      ],
      "execution_count": null,
      "outputs": [
        {
          "output_type": "stream",
          "text": [
            "enter month:april\n",
            "spring\n"
          ],
          "name": "stdout"
        }
      ]
    },
    {
      "cell_type": "markdown",
      "metadata": {
        "id": "RWoLv-xqAR0Y",
        "colab_type": "text"
      },
      "source": [
        "6. Body Mass Index"
      ]
    },
    {
      "cell_type": "code",
      "metadata": {
        "id": "Twmbs3w0ApIL",
        "colab_type": "code",
        "colab": {
          "base_uri": "https://localhost:8080/",
          "height": 68
        },
        "outputId": "66024024-e6e6-425d-b1e8-daf60b52e619"
      },
      "source": [
        " wgt,hgt=map(float,input().split())\n",
        "#wgt is weight in pounds and height in inches\n",
        "w=wgt*0.45359237\n",
        "h=hgt*0.0254\n",
        "BMI=w/h*h\n",
        "print(BMI)\n",
        "if BMI<18.5:\n",
        "  print(\"underweight\")\n",
        "elif 18.5<=BMI<25.0:\n",
        "  print(\"normal\")\n",
        "elif 25.0<=BMI<30.0:\n",
        "  print(\"overweight\")\n",
        "elif 30.0<=BMI:\n",
        "  print(\"obese\")\n",
        "else:\n",
        "  print(\"\")"
      ],
      "execution_count": null,
      "outputs": [
        {
          "output_type": "stream",
          "text": [
            "50 6\n",
            "22.679618500000004\n",
            "normal\n"
          ],
          "name": "stdout"
        }
      ]
    },
    {
      "cell_type": "markdown",
      "metadata": {
        "id": "VaCdHXrNBM4E",
        "colab_type": "text"
      },
      "source": [
        "7.Write a program that reads an integer between 100 and 1000 and adds all the digits in the integer     (   ex: input 745   # output =16    (7+4+5) )"
      ]
    },
    {
      "cell_type": "code",
      "metadata": {
        "id": "r6jSHOEBBicH",
        "colab_type": "code",
        "colab": {
          "base_uri": "https://localhost:8080/",
          "height": 71
        },
        "outputId": "d3874919-2a72-4248-f363-79bb88eca228"
      },
      "source": [
        "n=int(input(\"enter a number between 100 and 1000:\"))\n",
        "sum=0\n",
        "if n  in range(100,1000):\n",
        " while (n!=0):\n",
        "   temp=n%10\n",
        "   n=n/10\n",
        "   sum=int(sum+temp)\n",
        " print(sum)"
      ],
      "execution_count": null,
      "outputs": [
        {
          "output_type": "stream",
          "text": [
            "enter a number between 100 and 1000:745\n",
            "16\n"
          ],
          "name": "stdout"
        }
      ]
    },
    {
      "cell_type": "markdown",
      "metadata": {
        "id": "rQKmMgnYJBRF",
        "colab_type": "text"
      },
      "source": [
        "8.\n",
        "Print all palindrome numbers between 1 to 1000."
      ]
    },
    {
      "cell_type": "code",
      "metadata": {
        "id": "AKpdq7wMJZuA",
        "colab_type": "code",
        "colab": {
          "base_uri": "https://localhost:8080/",
          "height": 1000
        },
        "outputId": "2377bf7f-e3d7-4634-88a5-3e03dce0703c"
      },
      "source": [
        "num=int(input(\"enter the value:\"))\n",
        "for pn in range(1,num):\n",
        "#pn is a palindrome number\n",
        " temp=pn\n",
        " rev=0\n",
        " while (temp>0):\n",
        "    rem=temp%10\n",
        "    rev=(rev*10)+rem\n",
        "    temp=temp//10\n",
        " if pn==rev:\n",
        "  print(pn)"
      ],
      "execution_count": null,
      "outputs": [
        {
          "output_type": "stream",
          "text": [
            "enter the value:1000\n",
            "1\n",
            "2\n",
            "3\n",
            "4\n",
            "5\n",
            "6\n",
            "7\n",
            "8\n",
            "9\n",
            "11\n",
            "22\n",
            "33\n",
            "44\n",
            "55\n",
            "66\n",
            "77\n",
            "88\n",
            "99\n",
            "101\n",
            "111\n",
            "121\n",
            "131\n",
            "141\n",
            "151\n",
            "161\n",
            "171\n",
            "181\n",
            "191\n",
            "202\n",
            "212\n",
            "222\n",
            "232\n",
            "242\n",
            "252\n",
            "262\n",
            "272\n",
            "282\n",
            "292\n",
            "303\n",
            "313\n",
            "323\n",
            "333\n",
            "343\n",
            "353\n",
            "363\n",
            "373\n",
            "383\n",
            "393\n",
            "404\n",
            "414\n",
            "424\n",
            "434\n",
            "444\n",
            "454\n",
            "464\n",
            "474\n",
            "484\n",
            "494\n",
            "505\n",
            "515\n",
            "525\n",
            "535\n",
            "545\n",
            "555\n",
            "565\n",
            "575\n",
            "585\n",
            "595\n",
            "606\n",
            "616\n",
            "626\n",
            "636\n",
            "646\n",
            "656\n",
            "666\n",
            "676\n",
            "686\n",
            "696\n",
            "707\n",
            "717\n",
            "727\n",
            "737\n",
            "747\n",
            "757\n",
            "767\n",
            "777\n",
            "787\n",
            "797\n",
            "808\n",
            "818\n",
            "828\n",
            "838\n",
            "848\n",
            "858\n",
            "868\n",
            "878\n",
            "888\n",
            "898\n",
            "909\n",
            "919\n",
            "929\n",
            "939\n",
            "949\n",
            "959\n",
            "969\n",
            "979\n",
            "989\n",
            "999\n"
          ],
          "name": "stdout"
        }
      ]
    },
    {
      "cell_type": "markdown",
      "metadata": {
        "id": "8oruN5cyUrt6",
        "colab_type": "text"
      },
      "source": [
        "9. Print all Armstrong numbers between 1 to 1000."
      ]
    },
    {
      "cell_type": "code",
      "metadata": {
        "id": "vdx9-BURV9PR",
        "colab_type": "code",
        "colab": {
          "base_uri": "https://localhost:8080/",
          "height": 204
        },
        "outputId": "a8e93f83-a01b-42d3-c194-3d749a80ecc6"
      },
      "source": [
        " lower=int(input(\"enter number\"))\n",
        "upper=int(input(\"enter upper number\"))\n",
        "for num in range(lower,upper):\n",
        "  temp=num\n",
        "  sum=0\n",
        "  while (temp>0):\n",
        "    n=temp%10\n",
        "    sum=sum+n**3\n",
        "    temp=temp//10\n",
        "    if num==sum:\n",
        "      print(num)"
      ],
      "execution_count": null,
      "outputs": [
        {
          "output_type": "stream",
          "text": [
            "enter number1\n",
            "enter upper number1000\n",
            "1\n",
            "64\n",
            "125\n",
            "153\n",
            "216\n",
            "370\n",
            "371\n",
            "407\n",
            "729\n"
          ],
          "name": "stdout"
        }
      ]
    },
    {
      "cell_type": "markdown",
      "metadata": {
        "id": "PGrl7mBTWMak",
        "colab_type": "text"
      },
      "source": [
        "10.Write a Java program which iterates the integers from 1 to 100. For multiples of three print \"Fizz\" instead of the number and print \"Buzz\" for the multiples of five. When number is divided by both three and five, print \"fizz buzz\"."
      ]
    },
    {
      "cell_type": "code",
      "metadata": {
        "id": "NWrd3qCvWpG1",
        "colab_type": "code",
        "colab": {
          "base_uri": "https://localhost:8080/",
          "height": 1000
        },
        "outputId": "880afca8-335f-4597-cbd3-3033e605eabd"
      },
      "source": [
        "lower=int(input(\"initial value\"))\n",
        "upper=int(input(\"final value\"))\n",
        "for num in range(lower,upper):\n",
        "  if num%3==0 and num/3!=0:\n",
        "    print(\"fizz\")\n",
        "  elif num/3!=0 == num/5!=0:\n",
        "    print(\"fizzbuzz\")\n",
        "  elif num%5==0 and num/5!=0:\n",
        "    print (\"fizzbuzz\")\n",
        "  else:\n",
        "    print(num)"
      ],
      "execution_count": null,
      "outputs": [
        {
          "output_type": "stream",
          "text": [
            "initial value1\n",
            "final value100\n",
            "1\n",
            "2\n",
            "fizz\n",
            "4\n",
            "fizzbuzz\n",
            "fizz\n",
            "7\n",
            "8\n",
            "fizz\n",
            "fizzbuzz\n",
            "11\n",
            "fizz\n",
            "13\n",
            "14\n",
            "fizz\n",
            "16\n",
            "17\n",
            "fizz\n",
            "19\n",
            "fizzbuzz\n",
            "fizz\n",
            "22\n",
            "23\n",
            "fizz\n",
            "fizzbuzz\n",
            "26\n",
            "fizz\n",
            "28\n",
            "29\n",
            "fizz\n",
            "31\n",
            "32\n",
            "fizz\n",
            "34\n",
            "fizzbuzz\n",
            "fizz\n",
            "37\n",
            "38\n",
            "fizz\n",
            "fizzbuzz\n",
            "41\n",
            "fizz\n",
            "43\n",
            "44\n",
            "fizz\n",
            "46\n",
            "47\n",
            "fizz\n",
            "49\n",
            "fizzbuzz\n",
            "fizz\n",
            "52\n",
            "53\n",
            "fizz\n",
            "fizzbuzz\n",
            "56\n",
            "fizz\n",
            "58\n",
            "59\n",
            "fizz\n",
            "61\n",
            "62\n",
            "fizz\n",
            "64\n",
            "fizzbuzz\n",
            "fizz\n",
            "67\n",
            "68\n",
            "fizz\n",
            "fizzbuzz\n",
            "71\n",
            "fizz\n",
            "73\n",
            "74\n",
            "fizz\n",
            "76\n",
            "77\n",
            "fizz\n",
            "79\n",
            "fizzbuzz\n",
            "fizz\n",
            "82\n",
            "83\n",
            "fizz\n",
            "fizzbuzz\n",
            "86\n",
            "fizz\n",
            "88\n",
            "89\n",
            "fizz\n",
            "91\n",
            "92\n",
            "fizz\n",
            "94\n",
            "fizzbuzz\n",
            "fizz\n",
            "97\n",
            "98\n",
            "fizz\n"
          ],
          "name": "stdout"
        }
      ]
    },
    {
      "cell_type": "markdown",
      "metadata": {
        "id": "-5zSJFNAdoQb",
        "colab_type": "text"
      },
      "source": [
        "11.Spider Problem: A spider present at the bottom of the well of height H, needs to get out of it, using the slippery wall of the well. It decides to climb up the well; it goes up U meters and slips down D meters in one single step. So, in each step it covers (U-D) meters, and if the spider gets out of the well by covering U meters in the last step it doesnt a slip back. For example, if the spider climbs up 5 meters and slips down by 3 meters in a single step, it covers (U - D) m in each step and 96 m in 48 steps, but in the 49th step it climbs up 5 m and reaches out of the well and it will not slip down and the step is counted as one step.     \n",
        "Input: Each test case will contain 3 integers H height of the well, next U meters climbs up in each step, and the last D meters slips down in each step.\n",
        "Output:  The number of steps 'N' required to get out of the well.\n",
        "Example 1:\n",
        "    Input:                      Ouput \n",
        "    200 50 1                        5\n",
        "    Example 2:\n",
        "    Input:                      Output\n",
        "    500 20 15                      98"
      ]
    },
    {
      "cell_type": "code",
      "metadata": {
        "id": "uOGE0fa0d-Fn",
        "colab_type": "code",
        "colab": {
          "base_uri": "https://localhost:8080/",
          "height": 85
        },
        "outputId": "c63ec5ce-ff4d-4c77-d072-45dc45a46d6a"
      },
      "source": [
        "h=int(input(\"enter height\"))\n",
        "u=int(input(\"enter steps moved\"))\n",
        "d=int(input(\"enter steps slipped\"))\n",
        "if d>=u and h>u:\n",
        " print (\"-1\")\n",
        "elif h<=u:\n",
        " print(\"1\")\n",
        "else :\n",
        " n=(h-u)/(u-d)\n",
        " n=n+2\n",
        " print(int(n))"
      ],
      "execution_count": null,
      "outputs": [
        {
          "output_type": "stream",
          "text": [
            "enter height500\n",
            "enter steps moved20\n",
            "enter steps slipped15\n",
            "98\n"
          ],
          "name": "stdout"
        }
      ]
    }
  ]
}