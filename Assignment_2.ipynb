{
  "nbformat": 4,
  "nbformat_minor": 0,
  "metadata": {
    "colab": {
      "name": "Assignment-2.ipynb",
      "provenance": [],
      "collapsed_sections": [],
      "authorship_tag": "ABX9TyOOszV/b9YoblMKnmKqodYS",
      "include_colab_link": true
    },
    "kernelspec": {
      "name": "python3",
      "display_name": "Python 3"
    }
  },
  "cells": [
    {
      "cell_type": "markdown",
      "metadata": {
        "id": "view-in-github",
        "colab_type": "text"
      },
      "source": [
        "<a href=\"https://colab.research.google.com/github/18K41A04B6/pe-AI/blob/master/Assignment_2.ipynb\" target=\"_parent\"><img src=\"https://colab.research.google.com/assets/colab-badge.svg\" alt=\"Open In Colab\"/></a>"
      ]
    },
    {
      "cell_type": "markdown",
      "metadata": {
        "id": "hM2rEymsz4uZ",
        "colab_type": "text"
      },
      "source": [
        "1.Area of Triangle :\n",
        "Given the lengths of three sides of a triangle, calculate the area of the triangle."
      ]
    },
    {
      "cell_type": "code",
      "metadata": {
        "id": "5LOh0f_yz74Y",
        "colab_type": "code",
        "colab": {
          "base_uri": "https://localhost:8080/",
          "height": 85
        },
        "outputId": "91c684c9-1e68-46ac-f0f6-0c3316fb00fc"
      },
      "source": [
        "def trianglearea(a=float(input(\"enter the first side\")),b=float(input(\"enter the second side\")),c=float(input(\"enter the third side\"))):\n",
        "  s=(a+b+c)/2\n",
        "  area=(s*(s-a)*(s-b)*(s-c))**0.5\n",
        "  print('The area of triangle is %0.2f'%area)\n",
        "trianglearea()"
      ],
      "execution_count": null,
      "outputs": [
        {
          "output_type": "stream",
          "text": [
            "enter the first side15\n",
            "enter the second side18\n",
            "enter the third side20\n",
            "The area of triangle is 129.76\n"
          ],
          "name": "stdout"
        }
      ]
    },
    {
      "cell_type": "markdown",
      "metadata": {
        "id": "fx2VRIm602fw",
        "colab_type": "text"
      },
      "source": [
        "2.Take a string from end user and check if the value is palindrome or not"
      ]
    },
    {
      "cell_type": "code",
      "metadata": {
        "id": "sdVpg9HD1F78",
        "colab_type": "code",
        "colab": {
          "base_uri": "https://localhost:8080/",
          "height": 51
        },
        "outputId": "3e143164-85af-4581-c7a7-689704464306"
      },
      "source": [
        " def palindrome (str=input(\"enter string:\")):\n",
        "  if (str==str[::-1]):\n",
        "   print (\"given string is palindrome\")\n",
        "  else:\n",
        "   print (\"string is not palindrome\")\n",
        "palindrome ()"
      ],
      "execution_count": null,
      "outputs": [
        {
          "output_type": "stream",
          "text": [
            "enter string:madam\n",
            "given string is palindrome\n"
          ],
          "name": "stdout"
        }
      ]
    },
    {
      "cell_type": "markdown",
      "metadata": {
        "id": "IGK_9AGP1rWS",
        "colab_type": "text"
      },
      "source": [
        "3.Write a program that reads a year from the user and displays a message \n",
        "Indicating whether or not it is a leap year."
      ]
    },
    {
      "cell_type": "code",
      "metadata": {
        "id": "Ii2wp4Sk3Ykd",
        "colab_type": "code",
        "colab": {
          "base_uri": "https://localhost:8080/",
          "height": 51
        },
        "outputId": "8c9a5288-14ef-419e-bfb0-80a378456efc"
      },
      "source": [
        "def leapyr(yr=int(input(\"enter the year:\"))):\n",
        " if yr%4==0:\n",
        "   print(yr,\"is a leap year\")\n",
        " else:\n",
        "   print(yr,\"is not a leap year\")\n",
        "leapyr()"
      ],
      "execution_count": null,
      "outputs": [
        {
          "output_type": "stream",
          "text": [
            "enter the year:2000\n",
            "2000 is a leap year\n"
          ],
          "name": "stdout"
        }
      ]
    },
    {
      "cell_type": "markdown",
      "metadata": {
        "id": "7S6P9JCQ5o05",
        "colab_type": "text"
      },
      "source": [
        "4.  Space To Hyphen problem \n",
        "Take a string as input, and replaces spaces    with hyphens -, and returns a string.\n",
        "Input:  This program converts spaces into hyphen\n",
        "      Output:      This-program-converts-spaces-into-hyphen"
      ]
    },
    {
      "cell_type": "code",
      "metadata": {
        "id": "s8gYIKOW5r4g",
        "colab_type": "code",
        "colab": {
          "base_uri": "https://localhost:8080/",
          "height": 71
        },
        "outputId": "e4d3ec2b-1f32-4737-bd46-7d7e187d138e"
      },
      "source": [
        " def sentence(s=input(\"enter a sentence\")):\n",
        "  if s!=\" \":\n",
        "    print(s.replace(\" \" ,\"-\"))\n",
        "     \n",
        "  else:\n",
        "    print(s)\n",
        "sentence()"
      ],
      "execution_count": null,
      "outputs": [
        {
          "output_type": "stream",
          "text": [
            "enter a sentenceThis program converts spaces into hyphen\n",
            "This-program-converts-spaces-into-hyphen\n"
          ],
          "name": "stdout"
        }
      ]
    },
    {
      "cell_type": "markdown",
      "metadata": {
        "id": "QVp91gkQ6Tr-",
        "colab_type": "text"
      },
      "source": [
        "5.Unique Sort problem \n",
        "Take a string as input that accepts a comma separated sequence of words as input and prints the unique words in sorted form (alphanumerically).\n",
        "*Input*: orange, white, red, cyan, green, magenta, cyan, pink, white\n",
        "*Output*: cyan, green, magenta, orange, pink, red, white"
      ]
    },
    {
      "cell_type": "code",
      "metadata": {
        "id": "-46037r9-yOi",
        "colab_type": "code",
        "colab": {
          "base_uri": "https://localhost:8080/",
          "height": 71
        },
        "outputId": "3a6679cc-83c4-4094-9ca7-5d33c897ac5f"
      },
      "source": [
        " items = input(\"Input comma separated sequence of words\")\n",
        "words = [word for word in items.split(\",\")]\n",
        "print(\",\".join(sorted(list(set(words)))))"
      ],
      "execution_count": null,
      "outputs": [
        {
          "output_type": "stream",
          "text": [
            "Input comma separated sequence of wordsorange,white,red,cyan,green,magneta,cyan,pink,white\n",
            "cyan,green,magneta,orange,pink,red,white\n"
          ],
          "name": "stdout"
        }
      ]
    },
    {
      "cell_type": "markdown",
      "metadata": {
        "id": "5HKuGOf_HGiA",
        "colab_type": "text"
      },
      "source": [
        "6.Tax Calculator\n",
        "Ask the user for their monthly salary. Calculate whether they have to pay tax and if so, how much is that amount .Print the result"
      ]
    },
    {
      "cell_type": "code",
      "metadata": {
        "id": "LcoSn3RXIV4J",
        "colab_type": "code",
        "colab": {
          "base_uri": "https://localhost:8080/",
          "height": 105
        },
        "outputId": "54498f42-60fd-4c5c-d22a-d6b26375c072"
      },
      "source": [
        "def taxcal(salary=int(input(\"enter monthly salary in Rilees:\"))):\n",
        " income=salary*12\n",
        " print(income)\n",
        " if income in range(0,250000):\n",
        "  print(\"NO NEED TO PAY TAX\",\"\\n\",\"NILL\")\n",
        " else:\n",
        "  print(\"HAVE TO PAY TAX\")\n",
        "  if income in range(250001,500000):\n",
        "    print(\"total income is:\",income*0.05)\n",
        "  elif income in range(500001,750000):\n",
        "    print(\"total income is:\", income*0.1)\n",
        "  elif income in range(750001,100000):\n",
        "    print(\"total income is:\",income*0.15)\n",
        "  elif income in range(1000001,1250000):\n",
        "    print(\"total income is:\",income*0.2)\n",
        "  elif income in range(1250001,1500000):\n",
        "    print (\"total income is:\",income*0.25)\n",
        "  elif income>1500000:\n",
        "    print(\"total income is:\",income*0.3)\n",
        "  else:\n",
        "    print (\"\")\n",
        "taxcal()"
      ],
      "execution_count": null,
      "outputs": [
        {
          "output_type": "stream",
          "text": [
            "enter monthly salary in Rilees:10000\n",
            "120000\n",
            "NO NEED TO PAY TAX \n",
            " NILL\n"
          ],
          "name": "stdout"
        }
      ]
    },
    {
      "cell_type": "markdown",
      "metadata": {
        "id": "qFLYFM5YNe5q",
        "colab_type": "text"
      },
      "source": [
        "7.Take a list of integers as an argument, and converts it into a single integer (return the integer).\n",
        "*Input*: [11, 33, 50]\n",
        "*Output*: 113350"
      ]
    },
    {
      "cell_type": "code",
      "metadata": {
        "id": "YHvkcIGT7pKV",
        "colab_type": "code",
        "colab": {}
      },
      "source": [
        " def convert(list):\n",
        "  s=[str(i) for i in list]\n",
        "  res=int(\"\".join(s))\n",
        "  return(res)"
      ],
      "execution_count": null,
      "outputs": []
    },
    {
      "cell_type": "code",
      "metadata": {
        "id": "s6LDauWc8Lah",
        "colab_type": "code",
        "colab": {
          "base_uri": "https://localhost:8080/",
          "height": 34
        },
        "outputId": "d036d8b9-6b19-4461-803e-995785560037"
      },
      "source": [
        " list=[11,33,50]\n",
        "print(convert(list))"
      ],
      "execution_count": null,
      "outputs": [
        {
          "output_type": "stream",
          "text": [
            "113350\n"
          ],
          "name": "stdout"
        }
      ]
    },
    {
      "cell_type": "markdown",
      "metadata": {
        "id": "hAR-DTJs8RcD",
        "colab_type": "text"
      },
      "source": [
        "8. Units of Time\n",
        "Create a program that reads duration from the user as a number of days, hours, minutes, and seconds. Compute and display the total number of seconds represented by this duration."
      ]
    },
    {
      "cell_type": "code",
      "metadata": {
        "id": "CtMiPi_T9X8c",
        "colab_type": "code",
        "colab": {
          "base_uri": "https://localhost:8080/",
          "height": 122
        },
        "outputId": "b060f978-8c85-4d55-dcae-9a09a22406ac"
      },
      "source": [
        " #the constants\n",
        "SPM= 60\n",
        "SPH=3600\n",
        "SPD= 86400\n",
        "def totsec(days=int(input(\"Enter number of Days: \")),hours= int(input(\"Enter number of Hours: \")),minutes=int(input(\"Enter number of Minutes: \")),seconds = int(input(\"Enter number of Seconds: \"))):\n",
        "  totalseconds = days * SPD\n",
        "  totalseconds = totalseconds + ( hours * SPH)\n",
        "  totalseconds = totalseconds + ( minutes * SPM)\n",
        "  totalseconds = totalseconds + seconds\n",
        "   # the result\n",
        "  print(\"Total number of seconds: \",\"%d\"%(totalseconds))\n",
        "totsec()"
      ],
      "execution_count": null,
      "outputs": [
        {
          "output_type": "stream",
          "text": [
            "Enter number of Days: 30\n",
            "Enter number of Hours: 15\n",
            "Enter number of Minutes: 18\n",
            "Enter number of Seconds: 4\n",
            "Total number of seconds:  2647084\n"
          ],
          "name": "stdout"
        }
      ]
    },
    {
      "cell_type": "markdown",
      "metadata": {
        "id": "lJlcJQTbCIvy",
        "colab_type": "text"
      },
      "source": [
        "9.Sort 3 Integers\n",
        "Given three integers (given through user input), sort the numbers using |min| and  |max| functions."
      ]
    },
    {
      "cell_type": "code",
      "metadata": {
        "id": "7baQWBer6qvV",
        "colab_type": "code",
        "colab": {
          "base_uri": "https://localhost:8080/",
          "height": 105
        },
        "outputId": "3a8cd51e-affa-4517-cc33-d16376656ee8"
      },
      "source": [
        "x=int(input(\"first number: \"))\n",
        "y=int(input(\"second number: \"))\n",
        "z=int(input(\"third number: \"))\n",
        "a1=min(x,y,z)\n",
        "a3=max(x,y,z)\n",
        "a2=(x+y+z)-a1-a3\n",
        "print(\"Number in sorted order: \",a1,a2,a3)"
      ],
      "execution_count": null,
      "outputs": [
        {
          "output_type": "stream",
          "text": [
            "first number: 30\n",
            "second number: 34\n",
            "third number: 15\n",
            "Number in sorted order:  15 30 34\n"
          ],
          "name": "stdout"
        }
      ]
    },
    {
      "cell_type": "markdown",
      "metadata": {
        "id": "KbHWJeEy7DQF",
        "colab_type": "text"
      },
      "source": [
        "10.Write a program that reads a date from the user and computes its immediate successor. The date is the format YYYY-MM-DD. So, 2020-04-15 will have the successor 2020-04-16."
      ]
    },
    {
      "cell_type": "code",
      "metadata": {
        "id": "ih-m0rt37muZ",
        "colab_type": "code",
        "colab": {
          "base_uri": "https://localhost:8080/",
          "height": 105
        },
        "outputId": "ff949b0b-ddcd-427e-d1f6-b36789738b71"
      },
      "source": [
        " #year\n",
        "year = int(input(\"Input a year: \"))\n",
        "if (year % 400 == 0) and (year % 4 == 0) : \n",
        "    leap_year = True\n",
        "else:\n",
        "    leap_year = False\n",
        "# month\n",
        "month = int(input(\"Input a month [01-12]: \"))\n",
        "if month in (1, 3, 5, 7, 8, 10, 12):\n",
        "    month_length = 31\n",
        "elif month == 2:\n",
        "    if leap_year:\n",
        "        month_length = 29\n",
        "    else:\n",
        "        month_length = 28\n",
        "else:\n",
        "    month_length = 30\n",
        "# day\n",
        "day = int(input(\"Input a day [1-31]: \"))\n",
        "if day < month_length:\n",
        "    day += 1\n",
        "else:\n",
        "    day = 1\n",
        "    if month == 12:\n",
        "        month = 1\n",
        "        year += 1\n",
        "    else:\n",
        "        month += 1\n",
        "print(\"The next date is [yyyy-mm-dd] %d-%d-%d.\" % (year, month, day))"
      ],
      "execution_count": null,
      "outputs": [
        {
          "output_type": "stream",
          "text": [
            "Input a year: 2020\n",
            "Input a month [01-12]: 04\n",
            "Input a day [1-31]: 15\n",
            "The next date is [yyyy-mm-dd] 2020-4-16.\n"
          ],
          "name": "stdout"
        }
      ]
    },
    {
      "cell_type": "markdown",
      "metadata": {
        "id": "p1E9Amkc-eZn",
        "colab_type": "text"
      },
      "source": [
        "11.Compute product of a list of numbers [45 ,3,2,89,72,1,10,7]\n",
        "Output: 121111200"
      ]
    },
    {
      "cell_type": "code",
      "metadata": {
        "id": "V1ZvPUDHAkq3",
        "colab_type": "code",
        "colab": {
          "base_uri": "https://localhost:8080/",
          "height": 34
        },
        "outputId": "cca015c9-f2bc-4af2-9f5f-b3b4e09ced63"
      },
      "source": [
        " from functools import reduce\n",
        "list=[45,3,2,89,72,1,10,7]\n",
        "result=reduce ((lambda x,y:x*y),list)\n",
        "print(\"Result=\",result)"
      ],
      "execution_count": null,
      "outputs": [
        {
          "output_type": "stream",
          "text": [
            "Result= 121111200\n"
          ],
          "name": "stdout"
        }
      ]
    },
    {
      "cell_type": "markdown",
      "metadata": {
        "id": "zT2yncDkBf2J",
        "colab_type": "text"
      },
      "source": [
        "12.Compute given Num_list =  [5, 6,8 ,34,89,1] to get desired output\n",
        "Output: Out_list=[11,14,42,123,90]"
      ]
    },
    {
      "cell_type": "code",
      "metadata": {
        "id": "Qk_nguhgBz-8",
        "colab_type": "code",
        "colab": {
          "base_uri": "https://localhost:8080/",
          "height": 71
        },
        "outputId": "c5e12add-484f-4538-881b-c51bf6c9b894"
      },
      "source": [
        "Num_list=[5,6,8,34,89,1]\n",
        "print(\"The original list:\"+str(Num_list))\n",
        "res=[Num_list[i]+Num_list[i+1] for i in range (len(Num_list)-1)]\n",
        "print(\"Out_list:\"+str(res))"
      ],
      "execution_count": null,
      "outputs": [
        {
          "output_type": "stream",
          "text": [
            "The original list:[5, 6, 8, 34, 89, 1]\n",
            "Out_list:[11, 14, 42, 123, 90]\n"
          ],
          "name": "stdout"
        }
      ]
    },
    {
      "cell_type": "markdown",
      "metadata": {
        "id": "FnwXfYzwCogI",
        "colab_type": "text"
      },
      "source": [
        "13.Compute given Num_tuple =  (5, 6,8 ,3,9,1) to get desired output\n",
        "Output: Out_list = [5, 30, 240, 720, 6480, 6480]"
      ]
    },
    {
      "cell_type": "code",
      "metadata": {
        "id": "AR8IGd8TC9qn",
        "colab_type": "code",
        "colab": {
          "base_uri": "https://localhost:8080/",
          "height": 51
        },
        "outputId": "babf0e2f-cd6b-4b5b-e855-3a6ce90058e4"
      },
      "source": [
        " input=[(1,5),(5,6),(30,8),(240,3),(720,9),(6480,1)]\n",
        "output=[]\n",
        "for elem in input:\n",
        "  temp=elem[0]*elem[1]\n",
        "  output.append(temp)\n",
        "print(\"Out_list of tuple:\")\n",
        "print(output)"
      ],
      "execution_count": null,
      "outputs": [
        {
          "output_type": "stream",
          "text": [
            "Out_list of tuple:\n",
            "[5, 30, 240, 720, 6480, 6480]\n"
          ],
          "name": "stdout"
        }
      ]
    },
    {
      "cell_type": "markdown",
      "metadata": {
        "id": "79mw9xOqF6Vy",
        "colab_type": "text"
      },
      "source": [
        "14.Write a Python code that takes a number and returns a list of its digits. So for 586392 it should return [5,8,6,3,9,2]"
      ]
    },
    {
      "cell_type": "code",
      "metadata": {
        "id": "7pxZ3OFlGTdh",
        "colab_type": "code",
        "colab": {
          "base_uri": "https://localhost:8080/",
          "height": 51
        },
        "outputId": "9483413f-7191-4666-f524-938af9f9d90d"
      },
      "source": [
        "input_number=input(\"enter the number:\")\n",
        "List= [] \n",
        "for i in range(len(input_number)):\n",
        " List.insert(i,input_number[i])\n",
        "print(List)"
      ],
      "execution_count": null,
      "outputs": [
        {
          "output_type": "stream",
          "text": [
            "enter the number:586392\n",
            "['5', '8', '6', '3', '9', '2']\n"
          ],
          "name": "stdout"
        }
      ]
    },
    {
      "cell_type": "markdown",
      "metadata": {
        "id": "HyKewe_tRJXH",
        "colab_type": "text"
      },
      "source": [
        "15.Write a program that finds the longest palindromic substring of a given string"
      ]
    },
    {
      "cell_type": "code",
      "metadata": {
        "id": "T8qhaeNvRO_7",
        "colab_type": "code",
        "colab": {
          "base_uri": "https://localhost:8080/",
          "height": 34
        },
        "outputId": "c1ae46a9-bac4-45d9-fea8-2744c7670df7"
      },
      "source": [
        " class solution(object):\n",
        "     def longestpalindrome(self,s):\n",
        "         dp=[[False for i in range(len(s))] for i in range(len(s))]\n",
        "         for i in range(len(s)):\n",
        "             dp[i][i]=True \n",
        "         maxlength=1\n",
        "         start=0\n",
        "         for l in range(2,len(s)+1):\n",
        "            for i in range(len(s)-l+1):\n",
        "               end=i+l\n",
        "               if l==2:\n",
        "                 if s[i]==s[end-1]:\n",
        "                    dp[i][end-1]=True \n",
        "                    maxlength=l\n",
        "                    start=i\n",
        "               else:\n",
        "                 if s[i]==s[end-1] and dp[i+1][end-2]:\n",
        "                        dp[i][end-1]=True \n",
        "                        maxlength=l \n",
        "                        start=i \n",
        "         return s[start:start+maxlength]\n",
        "ob1=solution()\n",
        "print(ob1.longestpalindrome(\"malayalam madam int\"))"
      ],
      "execution_count": null,
      "outputs": [
        {
          "output_type": "stream",
          "text": [
            "malayalam\n"
          ],
          "name": "stdout"
        }
      ]
    },
    {
      "cell_type": "markdown",
      "metadata": {
        "id": "2MkWhjfshhN5",
        "colab_type": "text"
      },
      "source": [
        "16. Substring Check (Bug Funny)\n",
        "Given two binary strings, A (of length 10) and B (of length 5), output 1 if B is a substring of A and 0 otherwise.\n",
        "First two lines of input:\n",
        " \n",
        "1010110010          10110\n",
        "1110111011           10011\n",
        "First two lines of output:\n",
        "1\n",
        "0"
      ]
    },
    {
      "cell_type": "code",
      "metadata": {
        "id": "rAl5msFph5N_",
        "colab_type": "code",
        "colab": {
          "base_uri": "https://localhost:8080/",
          "height": 68
        },
        "outputId": "853e97f3-88d9-4e61-cddf-3f10440e66b5"
      },
      "source": [
        " a=input(\"enter the string1:\")\n",
        "b=input(\"enter the string2:\")\n",
        "if b in a :\n",
        "  print(\"output is: 1 \")\n",
        "else:\n",
        "  print(\"output is: 0\")"
      ],
      "execution_count": null,
      "outputs": [
        {
          "output_type": "stream",
          "text": [
            "enter the string1:1010110010\n",
            "enter the string2:10110\n",
            "output is: 1 \n"
          ],
          "name": "stdout"
        }
      ]
    },
    {
      "cell_type": "markdown",
      "metadata": {
        "id": "CW6GnQz9jTFS",
        "colab_type": "text"
      },
      "source": [
        "17.  POUR1 - Pouring water\n",
        "Given two vessels, one of which can accommodate a litres of water and the other - b litres of water, determine the number of steps required to obtain exactly c litres of water in one of the vessels.\n",
        "At the beginning both vessels are empty. The following operations are counted as 'steps':\n",
        "emptying a vessel,\n",
        "filling a vessel,\n",
        "pouring water from one vessel to the other, without spilling, until one of the vessels is either full or empty.\n",
        "Input\n",
        "An integer t, 1<=t<=100, denoting the number of testcases , followed by t sets of input data, each consisting of three positive integers a, b, c, not larger than 40000, given in separate lines.\n",
        "Output\n",
        "For each set of input data, output the minimum number of steps required to obtain c litres, or -1 if this is impossible.\n",
        " \n",
        "Example\n",
        "Sample input:\n",
        "2\n",
        "5\n",
        "2\n",
        "3\n",
        "2\n",
        "3\n",
        "4\n",
        " \n",
        "Sample output:\n",
        "2\n",
        "-1"
      ]
    },
    {
      "cell_type": "code",
      "metadata": {
        "id": "WlyLdxoJlnFD",
        "colab_type": "code",
        "colab": {
          "base_uri": "https://localhost:8080/",
          "height": 190
        },
        "outputId": "4c92fa9c-f416-418c-ed2f-98fb306a4b42"
      },
      "source": [
        " def gcd(a,b):\n",
        " \n",
        "    if b==0: \n",
        " \n",
        "        return a \n",
        " \n",
        "    return gcd(b,a%b) \n",
        " \n",
        "def countsteps(a,b,c): \n",
        " \n",
        "    v1=b\n",
        " \n",
        "    v2=0\n",
        " \n",
        "    count=1\n",
        " \n",
        "    while ((v1 is not c) and (v2 is not c)): \n",
        " \n",
        "        temp=min(v1,a-v2) \n",
        " \n",
        "        v2=v2+temp \n",
        " \n",
        "        v1=v1-temp \n",
        " \n",
        "        count=count+1\n",
        " \n",
        "        if ((v2==c)or(v1==c)): \n",
        " \n",
        "            break\n",
        " \n",
        "        if v1==0: \n",
        " \n",
        "            v1=b \n",
        " \n",
        "            count=count+1\n",
        " \n",
        "        if v2==a: \n",
        " \n",
        "            v2=0\n",
        " \n",
        "            count=count+1\n",
        " \n",
        "    return count \n",
        " \n",
        "def ispossible(a,b,c): \n",
        " \n",
        "    if a>b: \n",
        " \n",
        "        temp=a \n",
        " \n",
        "        a=b \n",
        " \n",
        "        b=temp \n",
        " \n",
        "    if c>b: \n",
        " \n",
        "        return -1\n",
        " \n",
        "    if (c%(gcd(b,a)) is not 0): \n",
        " \n",
        "        return -1\n",
        " \n",
        "    return(min(countsteps(b,a,c),countsteps(a,b,c)))\n",
        " \n",
        "t=int(input(\"Enter no of testcases : \"))\n",
        " \n",
        "for i in range(t):\n",
        " \n",
        "  a=int(input(\"Enter capacity of vessel a : \"))\n",
        " \n",
        "  b=int(input(\"Enter capacity of vessel b : \"))\n",
        " \n",
        "  c=int(input(\"Enter capacity to be obtained :\"))\n",
        " \n",
        "  print(\"Minimum number of steps required is : \",ispossible(a,b,c))"
      ],
      "execution_count": null,
      "outputs": [
        {
          "output_type": "stream",
          "text": [
            "Enter no of testcases : 2\n",
            "Enter capacity of vessel a : 5\n",
            "Enter capacity of vessel b : 2\n",
            "Enter capacity to be obtained :3\n",
            "Minimum number of steps required is :  2\n",
            "Enter capacity of vessel a : 2\n",
            "Enter capacity of vessel b : 3\n",
            "Enter capacity to be obtained :4\n",
            "Minimum number of steps required is :  -1\n"
          ],
          "name": "stdout"
        }
      ]
    }
  ]
}